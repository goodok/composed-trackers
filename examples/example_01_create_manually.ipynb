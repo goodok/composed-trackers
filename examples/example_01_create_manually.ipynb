{
 "cells": [
  {
   "cell_type": "markdown",
   "metadata": {},
   "source": [
    "## Imports"
   ]
  },
  {
   "cell_type": "code",
   "execution_count": 1,
   "metadata": {},
   "outputs": [],
   "source": [
    "%load_ext autoreload\n",
    "%autoreload 2\n",
    "\n",
    "import composed_trackers\n",
    "from composed_trackers.trackers import NeptuneTracker, SimpleTracker\n",
    "from composed_trackers import ComposedTrackers\n",
    "from pathlib import Path"
   ]
  },
  {
   "cell_type": "markdown",
   "metadata": {},
   "source": [
    "## Configuration"
   ]
  },
  {
   "cell_type": "code",
   "execution_count": 2,
   "metadata": {},
   "outputs": [],
   "source": [
    "params_common = {\n",
    "    'name': 'Experiment 01 name',\n",
    "    'description': 'Description',\n",
    "    'tags': ['examples'],\n",
    "    'params': {'num_epochs': 10, 'optimizer': 'Adam'},\n",
    "    'debug': True,\n",
    "}\n",
    "\n",
    "params_simple = {\n",
    "    'root_path': './logs',\n",
    "    'exp_id_template': 'EXAM01-{i:03}',\n",
    "    'debug': False,\n",
    "}"
   ]
  },
  {
   "cell_type": "markdown",
   "metadata": {},
   "source": [
    "## Create manually"
   ]
  },
  {
   "cell_type": "code",
   "execution_count": 3,
   "metadata": {},
   "outputs": [
    {
     "name": "stderr",
     "output_type": "stream",
     "text": [
      "Neptune is running in offline mode. No data is being logged to Neptune.\n",
      "Disable offline mode to log your experiments.\n"
     ]
    }
   ],
   "source": [
    "# impliced params: project\n",
    "neptune_tracker = NeptuneTracker(project='goodok/composed', **params_common)\n",
    " "
   ]
  },
  {
   "cell_type": "code",
   "execution_count": 4,
   "metadata": {},
   "outputs": [],
   "source": [
    "# Try to use suggested id\n",
    "# params as dictionary first params_common, then update by params_simple\n",
    "\n",
    "simple_tracker = SimpleTracker(exp_id=neptune_tracker.exp_id,\n",
    "                               **{**params_common, **params_simple}) \n"
   ]
  },
  {
   "cell_type": "code",
   "execution_count": 5,
   "metadata": {},
   "outputs": [],
   "source": [
    "tracker = ComposedTrackers(trackers=[neptune_tracker, simple_tracker], **params_common)"
   ]
  },
  {
   "cell_type": "code",
   "execution_count": 6,
   "metadata": {},
   "outputs": [
    {
     "name": "stdout",
     "output_type": "stream",
     "text": [
      "ComposedTrackers description:\n",
      "  name        : Experiment 01 name\n",
      "  description : Description\n",
      "  tags        : ['examples']\n",
      "  debug       : True\n",
      "\n",
      "NeptuneTracker\n",
      "    exp_id: None\n",
      "   project: goodok/composed\n",
      "\n",
      "SimpleTracker\n",
      "    exp_id: EXAM01-001\n",
      "      path: logs/EXAM01-001\n",
      "\n"
     ]
    }
   ],
   "source": [
    "tracker.describe()"
   ]
  },
  {
   "cell_type": "markdown",
   "metadata": {},
   "source": [
    "## Use trackers"
   ]
  },
  {
   "cell_type": "code",
   "execution_count": 7,
   "metadata": {},
   "outputs": [],
   "source": [
    "tracker.append_tag('introduction-minimal-example')"
   ]
  },
  {
   "cell_type": "code",
   "execution_count": 8,
   "metadata": {
    "scrolled": false
   },
   "outputs": [],
   "source": [
    "n = 117\n",
    "for i in range(1, n):\n",
    "    tracker.log_metric('iteration', i)\n",
    "    tracker.log_metric('loss', 1/i**0.5)\n",
    "    tracker.log_text('magic values', 'magic value {}'.format(0.95*i**2))\n",
    "tracker.set_property('n_iterations', n)\n",
    "\n",
    "\n",
    "tracker.log_text_as_artifact('Hello', 'summary.txt')"
   ]
  },
  {
   "cell_type": "markdown",
   "metadata": {},
   "source": [
    "## Stop"
   ]
  },
  {
   "cell_type": "code",
   "execution_count": 9,
   "metadata": {},
   "outputs": [
    {
     "name": "stdout",
     "output_type": "stream",
     "text": [
      "NeptuneTracker stopping...  Ok.\n",
      "BaseTracker stopping... Ok.\n"
     ]
    }
   ],
   "source": [
    "tracker.stop()"
   ]
  },
  {
   "cell_type": "code",
   "execution_count": 10,
   "metadata": {},
   "outputs": [
    {
     "name": "stdout",
     "output_type": "stream",
     "text": [
      "NeptuneTracker : \u001b[92mNone\u001b[0m\n",
      "SimpleTracker  : \u001b[92mEXAM01-001\u001b[0m\n",
      "\n"
     ]
    }
   ],
   "source": [
    "tracker.describe(ids_only=True)"
   ]
  },
  {
   "cell_type": "code",
   "execution_count": null,
   "metadata": {},
   "outputs": [],
   "source": []
  }
 ],
 "metadata": {
  "kernelspec": {
   "display_name": "Python 3",
   "language": "python",
   "name": "python3"
  },
  "language_info": {
   "codemirror_mode": {
    "name": "ipython",
    "version": 3
   },
   "file_extension": ".py",
   "mimetype": "text/x-python",
   "name": "python",
   "nbconvert_exporter": "python",
   "pygments_lexer": "ipython3",
   "version": "3.6.8"
  },
  "toc": {
   "base_numbering": 1,
   "nav_menu": {},
   "number_sections": true,
   "sideBar": true,
   "skip_h1_title": false,
   "title_cell": "Table of Contents",
   "title_sidebar": "Contents",
   "toc_cell": false,
   "toc_position": {},
   "toc_section_display": true,
   "toc_window_display": true
  }
 },
 "nbformat": 4,
 "nbformat_minor": 4
}
