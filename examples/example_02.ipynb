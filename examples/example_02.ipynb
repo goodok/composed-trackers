{
 "cells": [
  {
   "cell_type": "markdown",
   "metadata": {},
   "source": [
    "# Description\n",
    "\n",
    "You can use script from notebook or from shell.\n",
    "\n",
    "Convert this notebook to script (optionally)\n",
    "\n",
    "    jupyter nbconvert --to script example_02.ipynb\n",
    "    sed -i '/get_ipython()/d' example_02.py\n",
    "\n",
    "\n",
    "Show help message\n",
    "    \n",
    "    python example_02.py example_02.yaml --help\n",
    "    \n",
    "\n",
    "Run with additional params:\n",
    "    \n",
    "    python example_02.py example_02.yaml --tracker.debug=True\n",
    "    \n"
   ]
  },
  {
   "cell_type": "markdown",
   "metadata": {},
   "source": [
    "## Imports"
   ]
  },
  {
   "cell_type": "code",
   "execution_count": 1,
   "metadata": {},
   "outputs": [],
   "source": [
    "from composed_trackers import Config, build_from_cfg, TRACKERS, is_notebook, load_config_with_shell_updates\n",
    "from pathlib import Path"
   ]
  },
  {
   "cell_type": "markdown",
   "metadata": {},
   "source": [
    "## Configuration"
   ]
  },
  {
   "cell_type": "code",
   "execution_count": 2,
   "metadata": {},
   "outputs": [],
   "source": [
    "notebook_fn_config = Path('example_02.yaml')\n",
    "\n",
    "notebook_shell_args = {\n",
    "    'tracker.debug': True}"
   ]
  },
  {
   "cell_type": "code",
   "execution_count": 3,
   "metadata": {},
   "outputs": [
    {
     "name": "stdout",
     "output_type": "stream",
     "text": [
      "Updates of configuration:\n",
      "    tracker.debug :                         0 ---> True\n"
     ]
    }
   ],
   "source": [
    "cfg = load_config_with_shell_updates(notebook_fn_config, notebook_shell_args, verbose=True, sep='.')"
   ]
  },
  {
   "cell_type": "markdown",
   "metadata": {},
   "source": [
    "## Create tracker from config"
   ]
  },
  {
   "cell_type": "code",
   "execution_count": 4,
   "metadata": {},
   "outputs": [
    {
     "name": "stderr",
     "output_type": "stream",
     "text": [
      "Neptune is running in offline mode. No data is being logged to Neptune.\n",
      "Disable offline mode to log your experiments.\n"
     ]
    }
   ],
   "source": [
    "tracker = build_from_cfg(cfg.tracker, TRACKERS, {'params': cfg.to_flatten_dict(sep='.')})"
   ]
  },
  {
   "cell_type": "code",
   "execution_count": 5,
   "metadata": {},
   "outputs": [
    {
     "name": "stdout",
     "output_type": "stream",
     "text": [
      "ComposedTrackers description:\n",
      "  name        : Experiment  00 name\n",
      "  description : Example of using configuration file.\n",
      "  tags        : ['examples', 'config']\n",
      "  debug       : True\n",
      "\n",
      "NeptuneTracker\n",
      "    exp_id: None\n",
      "   project: goodok/composed\n",
      "\n",
      "SimpleTracker\n",
      "    exp_id: EXAM00-016\n",
      "      path: logs/EXAM00-016\n",
      "\n"
     ]
    }
   ],
   "source": [
    "tracker.describe()"
   ]
  },
  {
   "cell_type": "markdown",
   "metadata": {},
   "source": [
    "## Use trackers"
   ]
  },
  {
   "cell_type": "code",
   "execution_count": 8,
   "metadata": {},
   "outputs": [],
   "source": [
    "tracker.append_tag('introduction-minimal-example')"
   ]
  },
  {
   "cell_type": "code",
   "execution_count": 9,
   "metadata": {
    "scrolled": false
   },
   "outputs": [],
   "source": [
    "n = 117\n",
    "for i in range(1, n):\n",
    "    tracker.log_metric('iteration', i)\n",
    "    tracker.log_metric('loss', 1/i**0.5)\n",
    "    tracker.log_text('magic values', 'magic value {}'.format(0.95*i**2))\n",
    "tracker.set_property('n_iterations', n)\n",
    "\n",
    "\n",
    "tracker.log_text_as_artifact('Hello', 'summary.txt')"
   ]
  },
  {
   "cell_type": "markdown",
   "metadata": {},
   "source": [
    "## Stop"
   ]
  },
  {
   "cell_type": "code",
   "execution_count": 10,
   "metadata": {},
   "outputs": [
    {
     "name": "stdout",
     "output_type": "stream",
     "text": [
      "NeptuneTracker stopping...  Ok.\n",
      "BaseTracker stopping... Ok.\n"
     ]
    }
   ],
   "source": [
    "tracker.stop()"
   ]
  },
  {
   "cell_type": "code",
   "execution_count": 11,
   "metadata": {},
   "outputs": [
    {
     "name": "stdout",
     "output_type": "stream",
     "text": [
      "NeptuneTracker : \u001b[92mNone\u001b[0m\n",
      "SimpleTracker  : \u001b[92mEXAM00-016\u001b[0m\n",
      "\n"
     ]
    }
   ],
   "source": [
    "tracker.describe(ids_only=True)"
   ]
  },
  {
   "cell_type": "code",
   "execution_count": null,
   "metadata": {},
   "outputs": [],
   "source": []
  }
 ],
 "metadata": {
  "kernelspec": {
   "display_name": "Python 3",
   "language": "python",
   "name": "python3"
  },
  "language_info": {
   "codemirror_mode": {
    "name": "ipython",
    "version": 3
   },
   "file_extension": ".py",
   "mimetype": "text/x-python",
   "name": "python",
   "nbconvert_exporter": "python",
   "pygments_lexer": "ipython3",
   "version": "3.7.5"
  },
  "toc": {
   "base_numbering": 1,
   "nav_menu": {},
   "number_sections": true,
   "sideBar": true,
   "skip_h1_title": false,
   "title_cell": "Table of Contents",
   "title_sidebar": "Contents",
   "toc_cell": false,
   "toc_position": {},
   "toc_section_display": true,
   "toc_window_display": true
  }
 },
 "nbformat": 4,
 "nbformat_minor": 4
}
