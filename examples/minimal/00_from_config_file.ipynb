{
 "cells": [
  {
   "cell_type": "markdown",
   "metadata": {},
   "source": [
    "## Imports"
   ]
  },
  {
   "cell_type": "code",
   "execution_count": 1,
   "metadata": {},
   "outputs": [],
   "source": [
    "%load_ext autoreload\n",
    "%autoreload 2\n",
    "\n",
    "from composed_trackers import Config, build_from_cfg, TRACKERS\n",
    "from pathlib import Path"
   ]
  },
  {
   "cell_type": "markdown",
   "metadata": {},
   "source": [
    "## Configuration"
   ]
  },
  {
   "cell_type": "code",
   "execution_count": 2,
   "metadata": {},
   "outputs": [],
   "source": [
    "fn_config = Path('configs/example_00.yaml')\n",
    "cfg = Config.fromfile(fn_config)"
   ]
  },
  {
   "cell_type": "code",
   "execution_count": 3,
   "metadata": {},
   "outputs": [
    {
     "name": "stdout",
     "output_type": "stream",
     "text": [
      "\n",
      "tracker:\n",
      "    type: ComposedTrackers\n",
      "    trackers: [NeptuneTracker, SimpleTracker]\n",
      "    name: 'Experiment  00 name'\n",
      "    description: 'Example of using configuration file.'\n",
      "    tags: ['examples', 'config']\n",
      "    offline: True\n",
      "    SimpleTracker:\n",
      "        root_path: './logs'\n",
      "        exp_id_template: 'EXAM00-{i:03}'\n",
      "    NeptuneTracker:\n",
      "        project: 'USER_NAME/PROJECT_NAME'\n",
      "\n",
      "seed: 777\n",
      "\n",
      "optimizer:\n",
      "  type: torch.optim.Adam\n",
      "  weight_decay: 0.0001\n",
      "  lr: 0.6\n",
      "\n"
     ]
    }
   ],
   "source": [
    "print(cfg.text)"
   ]
  },
  {
   "cell_type": "code",
   "execution_count": 4,
   "metadata": {},
   "outputs": [],
   "source": [
    "# Comment this line if you finish debugging.\n",
    "cfg.tracker.offline = True "
   ]
  },
  {
   "cell_type": "markdown",
   "metadata": {},
   "source": [
    "## Create tracker from config"
   ]
  },
  {
   "cell_type": "code",
   "execution_count": 5,
   "metadata": {},
   "outputs": [
    {
     "name": "stderr",
     "output_type": "stream",
     "text": [
      "Neptune is running in offline mode. No data is being logged to Neptune.\n",
      "Disable offline mode to log your experiments.\n"
     ]
    }
   ],
   "source": [
    "\n",
    "tracker = build_from_cfg(cfg.tracker, TRACKERS, \n",
    "                         {'params': cfg.to_flatten_dict()}  # flattening config --> params\n",
    "                        )"
   ]
  },
  {
   "cell_type": "code",
   "execution_count": 6,
   "metadata": {},
   "outputs": [
    {
     "name": "stdout",
     "output_type": "stream",
     "text": [
      "ComposedTrackers description:\n",
      "  name        : Experiment  00 name\n",
      "  description : Example of using configuration file.\n",
      "  tags        : ['examples', 'config']\n",
      "  offline     : True\n",
      "\n",
      "NeptuneTracker\n",
      "    exp_id: None\n",
      "   project: USER_NAME/PROJECT_NAME\n",
      "\n",
      "SimpleTracker\n",
      "    exp_id: EXAM00-005\n",
      "      path: logs/EXAM00-005\n",
      "\n"
     ]
    }
   ],
   "source": [
    "tracker.describe()"
   ]
  },
  {
   "cell_type": "code",
   "execution_count": 7,
   "metadata": {},
   "outputs": [
    {
     "data": {
      "text/plain": [
       "{'tracker.type': 'ComposedTrackers',\n",
       " 'tracker.trackers': \"['NeptuneTracker', 'SimpleTracker']\",\n",
       " 'tracker.name': 'Experiment  00 name',\n",
       " 'tracker.description': 'Example of using configuration file.',\n",
       " 'tracker.tags': \"['examples', 'config']\",\n",
       " 'tracker.offline': True,\n",
       " 'tracker.SimpleTracker.root_path': './logs',\n",
       " 'tracker.SimpleTracker.exp_id_template': 'EXAM00-{i:03}',\n",
       " 'tracker.NeptuneTracker.project': 'USER_NAME/PROJECT_NAME',\n",
       " 'seed': 777,\n",
       " 'optimizer.type': 'torch.optim.Adam',\n",
       " 'optimizer.weight_decay': 0.0001,\n",
       " 'optimizer.lr': 0.6}"
      ]
     },
     "execution_count": 7,
     "metadata": {},
     "output_type": "execute_result"
    }
   ],
   "source": [
    "# all params of experiment\n",
    "tracker.params"
   ]
  },
  {
   "cell_type": "markdown",
   "metadata": {},
   "source": [
    "## Use trackers"
   ]
  },
  {
   "cell_type": "code",
   "execution_count": 8,
   "metadata": {},
   "outputs": [],
   "source": [
    "tracker.append_tag('introduction-minimal-example')"
   ]
  },
  {
   "cell_type": "code",
   "execution_count": 9,
   "metadata": {
    "scrolled": false
   },
   "outputs": [],
   "source": [
    "n = 117\n",
    "for i in range(1, n):\n",
    "    tracker.log_metric('iteration', i)\n",
    "    tracker.log_metric('loss', 1/i**0.5)\n",
    "    tracker.log_text('magic values', 'magic value {}'.format(0.95*i**2))\n",
    "tracker.set_property('n_iterations', n)\n",
    "\n",
    "\n",
    "tracker.log_text_as_artifact('Hello', 'summary.txt')"
   ]
  },
  {
   "cell_type": "markdown",
   "metadata": {},
   "source": [
    "## Stop"
   ]
  },
  {
   "cell_type": "code",
   "execution_count": 10,
   "metadata": {},
   "outputs": [
    {
     "name": "stdout",
     "output_type": "stream",
     "text": [
      "NeptuneTracker stopping...  Ok.\n",
      "BaseTracker stopping... Ok.\n"
     ]
    }
   ],
   "source": [
    "tracker.stop()"
   ]
  },
  {
   "cell_type": "code",
   "execution_count": 11,
   "metadata": {},
   "outputs": [
    {
     "name": "stdout",
     "output_type": "stream",
     "text": [
      "NeptuneTracker : \u001b[92mNone\u001b[0m\n",
      "SimpleTracker  : \u001b[92mEXAM00-005\u001b[0m\n",
      "\n"
     ]
    }
   ],
   "source": [
    "tracker.describe(ids_only=True)"
   ]
  },
  {
   "cell_type": "code",
   "execution_count": 12,
   "metadata": {},
   "outputs": [
    {
     "name": "stdout",
     "output_type": "stream",
     "text": [
      "artifacts\r\n",
      "metrics.csv\r\n",
      "metrics.json\r\n",
      "params.yaml\r\n",
      "properties.yaml\r\n",
      "tags.yaml\r\n",
      "texts.csv\r\n",
      "texts.json\r\n"
     ]
    }
   ],
   "source": [
    "!ls {tracker.path} -1"
   ]
  }
 ],
 "metadata": {
  "kernelspec": {
   "display_name": "Python 3",
   "language": "python",
   "name": "python3"
  },
  "language_info": {
   "codemirror_mode": {
    "name": "ipython",
    "version": 3
   },
   "file_extension": ".py",
   "mimetype": "text/x-python",
   "name": "python",
   "nbconvert_exporter": "python",
   "pygments_lexer": "ipython3",
   "version": "3.6.8"
  },
  "toc": {
   "base_numbering": 1,
   "nav_menu": {},
   "number_sections": true,
   "sideBar": true,
   "skip_h1_title": false,
   "title_cell": "Table of Contents",
   "title_sidebar": "Contents",
   "toc_cell": false,
   "toc_position": {},
   "toc_section_display": true,
   "toc_window_display": true
  }
 },
 "nbformat": 4,
 "nbformat_minor": 4
}
