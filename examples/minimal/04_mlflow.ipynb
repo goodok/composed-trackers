{
 "cells": [
  {
   "cell_type": "markdown",
   "metadata": {},
   "source": [
    "## Imports"
   ]
  },
  {
   "cell_type": "code",
   "execution_count": 1,
   "metadata": {},
   "outputs": [],
   "source": [
    "from composed_trackers import Config, build_from_cfg, TRACKERS, is_notebook, load_config_with_shell_updates\n",
    "from pathlib import Path"
   ]
  },
  {
   "cell_type": "markdown",
   "metadata": {},
   "source": [
    "## Configuration"
   ]
  },
  {
   "cell_type": "code",
   "execution_count": 2,
   "metadata": {},
   "outputs": [],
   "source": [
    "notebook_fn_config = Path('configs/example_04.yaml')\n",
    "\n",
    "notebook_shell_args = {\n",
    "    'tracker.offline': True}"
   ]
  },
  {
   "cell_type": "code",
   "execution_count": 3,
   "metadata": {},
   "outputs": [
    {
     "name": "stdout",
     "output_type": "stream",
     "text": [
      "Updates of configuration:\n",
      "    tracker.offline :                       0 ---> True\n"
     ]
    }
   ],
   "source": [
    "cfg = load_config_with_shell_updates(notebook_fn_config, notebook_shell_args, verbose=True, sep='.')"
   ]
  },
  {
   "cell_type": "markdown",
   "metadata": {},
   "source": [
    "## Create tracker from config"
   ]
  },
  {
   "cell_type": "code",
   "execution_count": 4,
   "metadata": {},
   "outputs": [],
   "source": [
    "tracker = build_from_cfg(cfg.tracker, TRACKERS, {'params': cfg.to_flatten_dict(sep='.')})"
   ]
  },
  {
   "cell_type": "code",
   "execution_count": 6,
   "metadata": {},
   "outputs": [
    {
     "name": "stdout",
     "output_type": "stream",
     "text": [
      "ComposedTrackers description:\n",
      "  name        : Experiment  04 name\n",
      "  description : MLFlow example\n",
      "  tags        : ['examples', 'config', 'mlflow']\n",
      "  offline     : True\n",
      "\n",
      "MLFlowTracker\n",
      "    exp_id: None\n",
      "    _expt_id: 0\n",
      "    _run_id: 1de29f4fc0134c78888f98d006825e50\n",
      "   tracking_uri: file:./logs/mlruns\n",
      "\n"
     ]
    }
   ],
   "source": [
    "tracker.describe()"
   ]
  },
  {
   "cell_type": "markdown",
   "metadata": {},
   "source": [
    "## Use trackers"
   ]
  },
  {
   "cell_type": "code",
   "execution_count": 7,
   "metadata": {},
   "outputs": [],
   "source": [
    "tracker.append_tag('introduction-minimal-example')"
   ]
  },
  {
   "cell_type": "code",
   "execution_count": 8,
   "metadata": {
    "scrolled": false
   },
   "outputs": [],
   "source": [
    "n = 117\n",
    "for i in range(1, n):\n",
    "    tracker.log_metric('iteration', i)\n",
    "    tracker.log_metric('loss', 1/i**0.5)\n",
    "    tracker.log_text('magic values', 'magic value {}'.format(0.95*i**2))\n",
    "tracker.set_property('n_iterations', n)\n",
    "\n",
    "\n",
    "tracker.log_text_as_artifact('Hello', 'summary.txt')"
   ]
  },
  {
   "cell_type": "markdown",
   "metadata": {},
   "source": [
    "## Stop"
   ]
  },
  {
   "cell_type": "code",
   "execution_count": null,
   "metadata": {},
   "outputs": [],
   "source": [
    "tracker.stop()"
   ]
  },
  {
   "cell_type": "code",
   "execution_count": 10,
   "metadata": {},
   "outputs": [
    {
     "name": "stdout",
     "output_type": "stream",
     "text": [
      "MLFlowTracker  : \u001b[92mNone\u001b[0m\n",
      "\n"
     ]
    }
   ],
   "source": [
    "tracker.describe(ids_only=True)"
   ]
  },
  {
   "cell_type": "code",
   "execution_count": null,
   "metadata": {},
   "outputs": [],
   "source": []
  }
 ],
 "metadata": {
  "kernelspec": {
   "display_name": "Python 3",
   "language": "python",
   "name": "python3"
  },
  "language_info": {
   "codemirror_mode": {
    "name": "ipython",
    "version": 3
   },
   "file_extension": ".py",
   "mimetype": "text/x-python",
   "name": "python",
   "nbconvert_exporter": "python",
   "pygments_lexer": "ipython3",
   "version": "3.7.5"
  },
  "toc": {
   "base_numbering": 1,
   "nav_menu": {},
   "number_sections": true,
   "sideBar": true,
   "skip_h1_title": false,
   "title_cell": "Table of Contents",
   "title_sidebar": "Contents",
   "toc_cell": false,
   "toc_position": {},
   "toc_section_display": true,
   "toc_window_display": true
  }
 },
 "nbformat": 4,
 "nbformat_minor": 4
}
